{
 "cells": [
  {
   "cell_type": "code",
   "execution_count": 3,
   "id": "3f02fec3",
   "metadata": {},
   "outputs": [
    {
     "name": "stdout",
     "output_type": "stream",
     "text": [
      "Merhaba Dünya!\n"
     ]
    }
   ],
   "source": [
    "print ('Merhaba Dünya!')\n"
   ]
  },
  {
   "cell_type": "code",
   "execution_count": 4,
   "id": "d86e7115",
   "metadata": {},
   "outputs": [
    {
     "name": "stdout",
     "output_type": "stream",
     "text": [
      "Merhaba Dünya!\n"
     ]
    }
   ],
   "source": [
    "mesaj = \"Merhaba Dünya!\"\n",
    "print (mesaj)"
   ]
  },
  {
   "cell_type": "code",
   "execution_count": 6,
   "id": "bec6111d",
   "metadata": {},
   "outputs": [
    {
     "name": "stdout",
     "output_type": "stream",
     "text": [
      "{'Merhaba Dünya!'}\n"
     ]
    }
   ],
   "source": [
    "mesaj = \"Merhaba Dünya!\"\n",
    "print ({mesaj})"
   ]
  },
  {
   "cell_type": "code",
   "execution_count": 10,
   "id": "d53ecc68",
   "metadata": {},
   "outputs": [
    {
     "name": "stdout",
     "output_type": "stream",
     "text": [
      "Merhaba Dünya!\n"
     ]
    }
   ],
   "source": [
    "mesaj = \"Merhaba Dünya!\"\n",
    "print (mesaj.title())"
   ]
  },
  {
   "cell_type": "code",
   "execution_count": 49,
   "id": "75dd1ac9",
   "metadata": {},
   "outputs": [
    {
     "ename": "SyntaxError",
     "evalue": "cannot assign to function call (222231708.py, line 2)",
     "output_type": "error",
     "traceback": [
      "\u001b[1;36m  Input \u001b[1;32mIn [49]\u001b[1;36m\u001b[0m\n\u001b[1;33m    person.firstName() = \"Yakup\"\u001b[0m\n\u001b[1;37m    ^\u001b[0m\n\u001b[1;31mSyntaxError\u001b[0m\u001b[1;31m:\u001b[0m cannot assign to function call\n"
     ]
    }
   ],
   "source": [
    "person ={firstName,lastName,age,city}\n",
    "person.firstName() = \"Yakup\"\n",
    "lastName= \"Demiryürek\"\n",
    "age= '23'\n",
    "city= \"Ankara\"\n",
    "\n",
    "print (person.firstName)\n"
   ]
  },
  {
   "cell_type": "code",
   "execution_count": null,
   "id": "35447b60",
   "metadata": {},
   "outputs": [],
   "source": []
  },
  {
   "cell_type": "code",
   "execution_count": null,
   "id": "45f79c4f",
   "metadata": {},
   "outputs": [],
   "source": []
  }
 ],
 "metadata": {
  "kernelspec": {
   "display_name": "Python 3 (ipykernel)",
   "language": "python",
   "name": "python3"
  },
  "language_info": {
   "codemirror_mode": {
    "name": "ipython",
    "version": 3
   },
   "file_extension": ".py",
   "mimetype": "text/x-python",
   "name": "python",
   "nbconvert_exporter": "python",
   "pygments_lexer": "ipython3",
   "version": "3.9.12"
  }
 },
 "nbformat": 4,
 "nbformat_minor": 5
}
