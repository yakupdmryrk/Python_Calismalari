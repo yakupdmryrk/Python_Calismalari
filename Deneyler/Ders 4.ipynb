{
 "cells": [
  {
   "cell_type": "code",
   "execution_count": 1,
   "id": "03a2f24b",
   "metadata": {},
   "outputs": [
    {
     "data": {
      "text/plain": [
       "0    5\n",
       "1    7\n",
       "2    3\n",
       "3    1\n",
       "4    3\n",
       "5    5\n",
       "dtype: int64"
      ]
     },
     "execution_count": 1,
     "metadata": {},
     "output_type": "execute_result"
    }
   ],
   "source": [
    "import pandas as pd\n",
    "pandas_seri=pd.Series([5,7,3,1,3,5])\n",
    "pandas_seri"
   ]
  },
  {
   "cell_type": "code",
   "execution_count": 2,
   "id": "140743a0",
   "metadata": {},
   "outputs": [
    {
     "data": {
      "text/plain": [
       "a    5\n",
       "b    7\n",
       "c    3\n",
       "d    1\n",
       "e    3\n",
       "f    5\n",
       "dtype: int64"
      ]
     },
     "execution_count": 2,
     "metadata": {},
     "output_type": "execute_result"
    }
   ],
   "source": [
    "pandas_seri=pd.Series([5,7,3,1,3,5], index=['a','b','c','d','e','f'])\n",
    "pandas_seri"
   ]
  },
  {
   "cell_type": "code",
   "execution_count": 14,
   "id": "9d07fc30",
   "metadata": {},
   "outputs": [],
   "source": [
    "iris_dict={'sepal_Lenght':[5.1,4.8,6.1,4.5,5.6], 'sepal_Width':[5.1,4.8,6.1,4.5,5.6],'pedal_Lenght':[5.1,4.8,6.1,4.5,5.6], 'pedal_Width':[5.1,4.8,6.1,4.5,5.6],'turler':['setosa','setosa','setosa','setosa','setosa']}\n",
    "iris=pd.DataFrame(iris_dict)"
   ]
  },
  {
   "cell_type": "code",
   "execution_count": 9,
   "id": "7113ee88",
   "metadata": {},
   "outputs": [
    {
     "data": {
      "text/plain": [
       "Index(['sepal_Lenght', 'sepal_Width', 'pedal_Lenght', 'pedal_Width', 'turler'], dtype='object')"
      ]
     },
     "execution_count": 9,
     "metadata": {},
     "output_type": "execute_result"
    }
   ],
   "source": [
    "iris.columns"
   ]
  },
  {
   "cell_type": "code",
   "execution_count": 11,
   "id": "5fcd971b",
   "metadata": {},
   "outputs": [
    {
     "data": {
      "text/html": [
       "<div>\n",
       "<style scoped>\n",
       "    .dataframe tbody tr th:only-of-type {\n",
       "        vertical-align: middle;\n",
       "    }\n",
       "\n",
       "    .dataframe tbody tr th {\n",
       "        vertical-align: top;\n",
       "    }\n",
       "\n",
       "    .dataframe thead th {\n",
       "        text-align: right;\n",
       "    }\n",
       "</style>\n",
       "<table border=\"1\" class=\"dataframe\">\n",
       "  <thead>\n",
       "    <tr style=\"text-align: right;\">\n",
       "      <th></th>\n",
       "      <th>sepal_Lenght</th>\n",
       "      <th>sepal_Width</th>\n",
       "      <th>pedal_Lenght</th>\n",
       "      <th>pedal_Width</th>\n",
       "      <th>turler</th>\n",
       "    </tr>\n",
       "  </thead>\n",
       "  <tbody>\n",
       "    <tr>\n",
       "      <th>0</th>\n",
       "      <td>5.1</td>\n",
       "      <td>5.1</td>\n",
       "      <td>5.1</td>\n",
       "      <td>5.1</td>\n",
       "      <td>setosa</td>\n",
       "    </tr>\n",
       "    <tr>\n",
       "      <th>1</th>\n",
       "      <td>4.8</td>\n",
       "      <td>4.8</td>\n",
       "      <td>4.8</td>\n",
       "      <td>4.8</td>\n",
       "      <td>setosa</td>\n",
       "    </tr>\n",
       "  </tbody>\n",
       "</table>\n",
       "</div>"
      ],
      "text/plain": [
       "   sepal_Lenght  sepal_Width  pedal_Lenght  pedal_Width  turler\n",
       "0           5.1          5.1           5.1          5.1  setosa\n",
       "1           4.8          4.8           4.8          4.8  setosa"
      ]
     },
     "execution_count": 11,
     "metadata": {},
     "output_type": "execute_result"
    }
   ],
   "source": [
    "iris.head(2)"
   ]
  },
  {
   "cell_type": "code",
   "execution_count": 12,
   "id": "7a6909f9",
   "metadata": {},
   "outputs": [
    {
     "data": {
      "text/plain": [
       "<bound method DataFrame.info of    sepal_Lenght  sepal_Width  pedal_Lenght  pedal_Width  turler\n",
       "0           5.1          5.1           5.1          5.1  setosa\n",
       "1           4.8          4.8           4.8          4.8  setosa\n",
       "2           6.1          6.1           6.1          6.1  setosa\n",
       "3           4.5          4.5           4.5          4.5  setosa\n",
       "4           5.6          5.6           5.6          5.6  setosa>"
      ]
     },
     "execution_count": 12,
     "metadata": {},
     "output_type": "execute_result"
    }
   ],
   "source": [
    "iris.info"
   ]
  },
  {
   "cell_type": "code",
   "execution_count": null,
   "id": "afb3ece0",
   "metadata": {},
   "outputs": [],
   "source": []
  }
 ],
 "metadata": {
  "kernelspec": {
   "display_name": "Python 3 (ipykernel)",
   "language": "python",
   "name": "python3"
  },
  "language_info": {
   "codemirror_mode": {
    "name": "ipython",
    "version": 3
   },
   "file_extension": ".py",
   "mimetype": "text/x-python",
   "name": "python",
   "nbconvert_exporter": "python",
   "pygments_lexer": "ipython3",
   "version": "3.9.12"
  }
 },
 "nbformat": 4,
 "nbformat_minor": 5
}
