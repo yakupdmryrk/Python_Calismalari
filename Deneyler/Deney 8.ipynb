{
 "cells": [
  {
   "cell_type": "code",
   "execution_count": 10,
   "id": "3d7b15fd",
   "metadata": {},
   "outputs": [
    {
     "name": "stdout",
     "output_type": "stream",
     "text": [
      "(404, 13)\n",
      "(404,)\n",
      "(102, 13)\n",
      "(102,)\n"
     ]
    }
   ],
   "source": [
    "import tensorflow as tf\n",
    "from tensorflow import keras\n",
    "from tensorflow.keras import layers\n",
    "import ssl\n",
    "##ssl._create_default_https_context=ssl._create_unverified_context\n",
    "from tensorflow.keras.datasets import boston_housing\n",
    "(X_train, y_train),(X_test, y_test)=boston_housing.load_data()\n",
    "##npz formatı numpy veri türü\n",
    "\n",
    "print(X_train.shape)\n",
    "print(y_train.shape)\n",
    "print(X_test.shape)\n",
    "print(y_test.shape)\n"
   ]
  },
  {
   "cell_type": "code",
   "execution_count": null,
   "id": "881de14f",
   "metadata": {},
   "outputs": [],
   "source": [
    "from tensorflow.keras.models import Sequential\n",
    "from tensorflow.keras.layers import Dense\n",
    "\n",
    "model=Sequential()\n",
    "model.add(Dense(50,activation='relu',input_shape=(X_train.shape[1],)))\n",
    "model.add(Dense(50,activation='relu'))\n",
    "model.add(Dense(1))\n",
    "model.compile(optimizer='adam',loss='mean_squared_error')\n"
   ]
  },
  {
   "cell_type": "code",
   "execution_count": 20,
   "id": "b721cba3",
   "metadata": {},
   "outputs": [
    {
     "name": "stdout",
     "output_type": "stream",
     "text": [
      "Epoch 1/50\n",
      "13/13 [==============================] - 0s 2ms/step - loss: 1.6983\n",
      "Epoch 2/50\n",
      "13/13 [==============================] - 0s 2ms/step - loss: 1.8683\n",
      "Epoch 3/50\n",
      "13/13 [==============================] - 0s 2ms/step - loss: 1.7009\n",
      "Epoch 4/50\n",
      "13/13 [==============================] - 0s 2ms/step - loss: 1.7270\n",
      "Epoch 5/50\n",
      "13/13 [==============================] - 0s 1ms/step - loss: 1.6797\n",
      "Epoch 6/50\n",
      "13/13 [==============================] - 0s 2ms/step - loss: 1.6539\n",
      "Epoch 7/50\n",
      "13/13 [==============================] - 0s 2ms/step - loss: 1.6759\n",
      "Epoch 8/50\n",
      "13/13 [==============================] - 0s 2ms/step - loss: 1.6970\n",
      "Epoch 9/50\n",
      "13/13 [==============================] - 0s 2ms/step - loss: 1.6918\n",
      "Epoch 10/50\n",
      "13/13 [==============================] - 0s 2ms/step - loss: 1.6722\n",
      "Epoch 11/50\n",
      "13/13 [==============================] - 0s 1ms/step - loss: 1.6622\n",
      "Epoch 12/50\n",
      "13/13 [==============================] - 0s 2ms/step - loss: 1.7157\n",
      "Epoch 13/50\n",
      "13/13 [==============================] - 0s 1ms/step - loss: 1.6860\n",
      "Epoch 14/50\n",
      "13/13 [==============================] - 0s 2ms/step - loss: 1.7503\n",
      "Epoch 15/50\n",
      "13/13 [==============================] - 0s 2ms/step - loss: 1.6753\n",
      "Epoch 16/50\n",
      "13/13 [==============================] - 0s 2ms/step - loss: 1.7617\n",
      "Epoch 17/50\n",
      "13/13 [==============================] - 0s 1ms/step - loss: 1.7432\n",
      "Epoch 18/50\n",
      "13/13 [==============================] - 0s 1ms/step - loss: 1.7506\n",
      "Epoch 19/50\n",
      "13/13 [==============================] - 0s 1ms/step - loss: 1.6545\n",
      "Epoch 20/50\n",
      "13/13 [==============================] - 0s 1ms/step - loss: 1.6638\n",
      "Epoch 21/50\n",
      "13/13 [==============================] - 0s 2ms/step - loss: 1.6132\n",
      "Epoch 22/50\n",
      "13/13 [==============================] - 0s 1ms/step - loss: 1.6317\n",
      "Epoch 23/50\n",
      "13/13 [==============================] - 0s 1ms/step - loss: 1.7000\n",
      "Epoch 24/50\n",
      "13/13 [==============================] - 0s 1ms/step - loss: 1.5571\n",
      "Epoch 25/50\n",
      "13/13 [==============================] - 0s 1ms/step - loss: 1.5858\n",
      "Epoch 26/50\n",
      "13/13 [==============================] - 0s 1ms/step - loss: 1.6528\n",
      "Epoch 27/50\n",
      "13/13 [==============================] - 0s 1ms/step - loss: 1.6395\n",
      "Epoch 28/50\n",
      "13/13 [==============================] - 0s 1ms/step - loss: 1.6206\n",
      "Epoch 29/50\n",
      "13/13 [==============================] - 0s 1ms/step - loss: 1.5816\n",
      "Epoch 30/50\n",
      "13/13 [==============================] - 0s 1ms/step - loss: 1.6939\n",
      "Epoch 31/50\n",
      "13/13 [==============================] - 0s 1ms/step - loss: 1.7122\n",
      "Epoch 32/50\n",
      "13/13 [==============================] - 0s 1ms/step - loss: 1.6525\n",
      "Epoch 33/50\n",
      "13/13 [==============================] - 0s 1ms/step - loss: 1.6234\n",
      "Epoch 34/50\n",
      "13/13 [==============================] - 0s 1ms/step - loss: 1.5888\n",
      "Epoch 35/50\n",
      "13/13 [==============================] - 0s 1ms/step - loss: 1.5575\n",
      "Epoch 36/50\n",
      "13/13 [==============================] - 0s 1ms/step - loss: 1.5434\n",
      "Epoch 37/50\n",
      "13/13 [==============================] - 0s 1ms/step - loss: 1.6223\n",
      "Epoch 38/50\n",
      "13/13 [==============================] - 0s 1ms/step - loss: 1.5474\n",
      "Epoch 39/50\n",
      "13/13 [==============================] - 0s 1ms/step - loss: 1.6000\n",
      "Epoch 40/50\n",
      "13/13 [==============================] - 0s 1ms/step - loss: 1.5664\n",
      "Epoch 41/50\n",
      "13/13 [==============================] - 0s 1ms/step - loss: 1.6617\n",
      "Epoch 42/50\n",
      "13/13 [==============================] - 0s 1ms/step - loss: 1.5745\n",
      "Epoch 43/50\n",
      "13/13 [==============================] - 0s 1ms/step - loss: 1.5069\n",
      "Epoch 44/50\n",
      "13/13 [==============================] - 0s 2ms/step - loss: 1.5517\n",
      "Epoch 45/50\n",
      "13/13 [==============================] - 0s 1ms/step - loss: 1.5630\n",
      "Epoch 46/50\n",
      "13/13 [==============================] - 0s 1ms/step - loss: 1.5173\n",
      "Epoch 47/50\n",
      "13/13 [==============================] - 0s 1ms/step - loss: 1.5145\n",
      "Epoch 48/50\n",
      "13/13 [==============================] - 0s 1ms/step - loss: 1.5706\n",
      "Epoch 49/50\n",
      "13/13 [==============================] - 0s 2ms/step - loss: 1.5181\n",
      "Epoch 50/50\n",
      "13/13 [==============================] - 0s 1ms/step - loss: 1.5343\n"
     ]
    },
    {
     "data": {
      "text/plain": [
       "<keras.callbacks.History at 0x1f4a1335be0>"
      ]
     },
     "execution_count": 20,
     "metadata": {},
     "output_type": "execute_result"
    }
   ],
   "source": [
    "import numpy as np\n",
    "ortalama=X_train.mean(axis=0)\n",
    "st_sapma=X_train.std(axis=0)\n",
    "\n",
    "X_train -=ortalama\n",
    "X_train /=st_sapma\n",
    "X_test -=ortalama\n",
    "X_test /=st_sapma\n",
    "\n",
    "model.fit(X_train, y_train, epochs=50)"
   ]
  },
  {
   "cell_type": "code",
   "execution_count": 21,
   "id": "ceae2d77",
   "metadata": {},
   "outputs": [
    {
     "name": "stdout",
     "output_type": "stream",
     "text": [
      "13/13 [==============================] - 0s 1ms/step - loss: 1.4538\n"
     ]
    },
    {
     "data": {
      "text/plain": [
       "1.4537968635559082"
      ]
     },
     "execution_count": 21,
     "metadata": {},
     "output_type": "execute_result"
    }
   ],
   "source": [
    "mse_train=model.evaluate(X_train, y_train)\n",
    "mse_train"
   ]
  },
  {
   "cell_type": "code",
   "execution_count": 22,
   "id": "d7fe87d0",
   "metadata": {},
   "outputs": [
    {
     "name": "stdout",
     "output_type": "stream",
     "text": [
      "4/4 [==============================] - 0s 2ms/step - loss: 9.9144\n"
     ]
    },
    {
     "data": {
      "text/plain": [
       "9.914399147033691"
      ]
     },
     "execution_count": 22,
     "metadata": {},
     "output_type": "execute_result"
    }
   ],
   "source": [
    "mse_test=model.evaluate(X_test, y_test)\n",
    "mse_test"
   ]
  },
  {
   "cell_type": "code",
   "execution_count": null,
   "id": "7ffbebee",
   "metadata": {},
   "outputs": [],
   "source": []
  }
 ],
 "metadata": {
  "kernelspec": {
   "display_name": "Python 3 (ipykernel)",
   "language": "python",
   "name": "python3"
  },
  "language_info": {
   "codemirror_mode": {
    "name": "ipython",
    "version": 3
   },
   "file_extension": ".py",
   "mimetype": "text/x-python",
   "name": "python",
   "nbconvert_exporter": "python",
   "pygments_lexer": "ipython3",
   "version": "3.9.12"
  }
 },
 "nbformat": 4,
 "nbformat_minor": 5
}
