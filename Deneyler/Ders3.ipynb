{
 "cells": [
  {
   "cell_type": "code",
   "execution_count": 12,
   "id": "70f7269b",
   "metadata": {},
   "outputs": [
    {
     "ename": "TypeError",
     "evalue": "'builtin_function_or_method' object is not subscriptable",
     "output_type": "error",
     "traceback": [
      "\u001b[1;31m---------------------------------------------------------------------------\u001b[0m",
      "\u001b[1;31mTypeError\u001b[0m                                 Traceback (most recent call last)",
      "Input \u001b[1;32mIn [12]\u001b[0m, in \u001b[0;36m<cell line: 3>\u001b[1;34m()\u001b[0m\n\u001b[0;32m      1\u001b[0m notlar \u001b[38;5;241m=\u001b[39m [[\u001b[38;5;124m'\u001b[39m\u001b[38;5;124mY\u001b[39m\u001b[38;5;124m'\u001b[39m,\u001b[38;5;241m100\u001b[39m],[\u001b[38;5;124m'\u001b[39m\u001b[38;5;124mO\u001b[39m\u001b[38;5;124m'\u001b[39m,\u001b[38;5;241m99\u001b[39m],[\u001b[38;5;124m'\u001b[39m\u001b[38;5;124mA\u001b[39m\u001b[38;5;124m'\u001b[39m,\u001b[38;5;241m98\u001b[39m],[\u001b[38;5;124m'\u001b[39m\u001b[38;5;124mE\u001b[39m\u001b[38;5;124m'\u001b[39m,\u001b[38;5;241m97\u001b[39m]]\n\u001b[0;32m      2\u001b[0m notlar[\u001b[38;5;241m0\u001b[39m][\u001b[38;5;241m0\u001b[39m]\n\u001b[1;32m----> 3\u001b[0m \u001b[43mnotlar\u001b[49m\u001b[38;5;241;43m.\u001b[39;49m\u001b[43mindex\u001b[49m\u001b[43m[\u001b[49m\u001b[38;5;124;43m'\u001b[39;49m\u001b[38;5;124;43mY\u001b[39;49m\u001b[38;5;124;43m'\u001b[39;49m\u001b[43m,\u001b[49m\u001b[38;5;241;43m100\u001b[39;49m\u001b[43m]\u001b[49m\n",
      "\u001b[1;31mTypeError\u001b[0m: 'builtin_function_or_method' object is not subscriptable"
     ]
    }
   ],
   "source": [
    "notlar = [['Y',100],['O',99],['A',98],['E',97]]\n",
    "\n",
    "\n",
    "\n"
   ]
  },
  {
   "cell_type": "code",
   "execution_count": null,
   "id": "fab2b44f",
   "metadata": {},
   "outputs": [],
   "source": [
    "final > 50 ise geçti \n",
    "aksi halde öğrenci kaldı\n"
   ]
  },
  {
   "cell_type": "code",
   "execution_count": null,
   "id": "f42f1784",
   "metadata": {},
   "outputs": [],
   "source": [
    "or(|) veya and(&)"
   ]
  },
  {
   "cell_type": "code",
   "execution_count": null,
   "id": "0ae1496b",
   "metadata": {},
   "outputs": [],
   "source": [
    "if koşul :\n",
    "    gerçekleştirilicek işlem.\n",
    "    "
   ]
  },
  {
   "cell_type": "code",
   "execution_count": 15,
   "id": "e4a22089",
   "metadata": {},
   "outputs": [
    {
     "name": "stdout",
     "output_type": "stream",
     "text": [
      "Koşul sağlandı\n"
     ]
    }
   ],
   "source": [
    "if 5>4 :\n",
    "    print('Koşul sağlandı')"
   ]
  },
  {
   "cell_type": "code",
   "execution_count": 35,
   "id": "d5fdc5ec",
   "metadata": {},
   "outputs": [
    {
     "name": "stdout",
     "output_type": "stream",
     "text": [
      "Not giriniz = 60\n",
      "Geçer\n"
     ]
    }
   ],
   "source": [
    "dersNot = float(input(\"Not giriniz = \"))\n",
    "if dersNot>=60 :\n",
    "   print('Geçer')\n",
    "else:\n",
    "   print('Kalır')"
   ]
  },
  {
   "cell_type": "code",
   "execution_count": null,
   "id": "a3d8b9a1",
   "metadata": {},
   "outputs": [],
   "source": [
    "while ve for döngüleri"
   ]
  },
  {
   "cell_type": "code",
   "execution_count": null,
   "id": "2cd7c926",
   "metadata": {},
   "outputs": [],
   "source": [
    "while koşul:\n",
    "    gerçekleşen bir işlem"
   ]
  },
  {
   "cell_type": "code",
   "execution_count": 39,
   "id": "0a9d697f",
   "metadata": {},
   "outputs": [
    {
     "name": "stdout",
     "output_type": "stream",
     "text": [
      "1\n",
      "2\n",
      "3\n",
      "4\n",
      "5\n",
      "6\n",
      "7\n",
      "8\n",
      "9\n"
     ]
    }
   ],
   "source": [
    "a = 1\n",
    "while a < 10:\n",
    "    print(a)\n",
    "    a += 1"
   ]
  },
  {
   "cell_type": "code",
   "execution_count": 41,
   "id": "55cc4013",
   "metadata": {},
   "outputs": [
    {
     "data": {
      "text/plain": [
       "range(0, 10)"
      ]
     },
     "execution_count": 41,
     "metadata": {},
     "output_type": "execute_result"
    }
   ],
   "source": [
    "range(10)"
   ]
  },
  {
   "cell_type": "code",
   "execution_count": 54,
   "id": "8bc85e41",
   "metadata": {
    "scrolled": true
   },
   "outputs": [
    {
     "name": "stdout",
     "output_type": "stream",
     "text": [
      "0\n",
      "1\n",
      "4\n",
      "9\n",
      "16\n",
      "25\n",
      "36\n",
      "49\n",
      "64\n",
      "81\n",
      "100\n"
     ]
    }
   ],
   "source": [
    "for i in range(0,11):\n",
    "    print(i**2)\n",
    "    \n"
   ]
  },
  {
   "cell_type": "code",
   "execution_count": 55,
   "id": "34961176",
   "metadata": {},
   "outputs": [],
   "source": [
    "def tebrikler():\n",
    "    print(\"Tebrikler ilk fonksiyonunuzu tanımladınız\")\n",
    "    "
   ]
  },
  {
   "cell_type": "code",
   "execution_count": 56,
   "id": "2d74a04d",
   "metadata": {},
   "outputs": [
    {
     "name": "stdout",
     "output_type": "stream",
     "text": [
      "Tebrikler ilk fonksiyonunuzu tanımladınız\n"
     ]
    }
   ],
   "source": [
    "tebrikler()"
   ]
  },
  {
   "cell_type": "code",
   "execution_count": 69,
   "id": "b030c405",
   "metadata": {},
   "outputs": [],
   "source": [
    "def kare(x): \n",
    "    y=x*x \n",
    "    print(y)"
   ]
  },
  {
   "cell_type": "code",
   "execution_count": 72,
   "id": "65dbbd4b",
   "metadata": {},
   "outputs": [
    {
     "name": "stdout",
     "output_type": "stream",
     "text": [
      "25\n"
     ]
    }
   ],
   "source": [
    "kare(5)\n"
   ]
  },
  {
   "cell_type": "code",
   "execution_count": null,
   "id": "fec467bf",
   "metadata": {},
   "outputs": [],
   "source": []
  }
 ],
 "metadata": {
  "kernelspec": {
   "display_name": "Python 3 (ipykernel)",
   "language": "python",
   "name": "python3"
  },
  "language_info": {
   "codemirror_mode": {
    "name": "ipython",
    "version": 3
   },
   "file_extension": ".py",
   "mimetype": "text/x-python",
   "name": "python",
   "nbconvert_exporter": "python",
   "pygments_lexer": "ipython3",
   "version": "3.9.12"
  }
 },
 "nbformat": 4,
 "nbformat_minor": 5
}
