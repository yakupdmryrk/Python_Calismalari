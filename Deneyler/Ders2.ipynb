{
 "cells": [
  {
   "cell_type": "code",
   "execution_count": 2,
   "id": "deff01a8",
   "metadata": {},
   "outputs": [
    {
     "name": "stdout",
     "output_type": "stream",
     "text": [
      "Hello world!\n"
     ]
    }
   ],
   "source": [
    "\"\"\"'Hello world!'ifadesini ekrana yazdırmayı sağlayan kod'\"\"\"\n",
    "print(\"Hello world!\")"
   ]
  },
  {
   "cell_type": "code",
   "execution_count": 11,
   "id": "b79913e8",
   "metadata": {
    "scrolled": true
   },
   "outputs": [
    {
     "name": "stdout",
     "output_type": "stream",
     "text": [
      "Yarıçap giriniz = 5\n",
      "Dairenin alanı 78.53981633975\n"
     ]
    }
   ],
   "source": [
    "#\"str()\" #string kelimeler için\n",
    "#\"int()\" #integer en küçük değeri 2^-31, en büyük 2^31\n",
    "#\"bool()\" # true-false\n",
    "#\"float()\" #ondalık sayı biçimleri \n",
    "#işlemler\n",
    "#toplama sembol aritmetik python\n",
    "#          +       a+5     a+5\n",
    "#          -       p-c     p-c\n",
    "#          *       b*m     b*m\n",
    "#          /       x/y     x/y\n",
    "#          /       x/y     x//y      \n",
    "#          %       rmod5   r%5  \n",
    "#\\n - yeni satır\n",
    "#\\t - tab tuşu\n",
    "#\\r - yeni satır\n",
    "#işlem   python   örnek\n",
    "#  =       ==     x==y\n",
    "# =değil   !=     x!=y\n",
    "#  >       >      x>y\n",
    "#  <       <      x<y\n",
    "# büyük=   >=     x>=y\n",
    "# küçük=   <=     x<=y\n",
    "#   ve     and    xandy\n",
    "#   or     or     xory\n",
    "\n",
    "\"\"\"Dairenin alanı\"\"\"\n",
    "r = float(input(\"Yarıçap giriniz = \"))\n",
    "daireAlan = (3.14159265359)*(r**2)\n",
    "print(\"Dairenin alanı\", daireAlan)\n"
   ]
  },
  {
   "cell_type": "code",
   "execution_count": 2,
   "id": "7a6d6dcb",
   "metadata": {},
   "outputs": [
    {
     "name": "stdout",
     "output_type": "stream",
     "text": [
      "Çevrim yapacağınız para birimi giriniz \n",
      "1-TL 2-Dolar 2\n",
      "Dolar giriniz = 1000\n",
      "Dolar 1000.0 \n",
      "TL 18590.0\n"
     ]
    }
   ],
   "source": [
    "\"\"\"TL-$, $-TL Çevirme\"\"\"\n",
    "birim = float(input(\"Çevrim yapacağınız para birimi giriniz \\n1-TL 2-Dolar \"))\n",
    "if birim == 1:\n",
    "    tl = float(input(\"TL giriniz = \"))\n",
    "    tlDolar = tl/(18.59)\n",
    "    print(\"TL\",tl,\"\\nDolar\", tlDolar)\n",
    "    \n",
    "elif birim == 2:\n",
    "    dolar = float(input(\"Dolar giriniz = \"))\n",
    "    dolarTL = dolar*(18.59)\n",
    "    print(\"Dolar\",dolar,\"\\nTL\", dolarTL)\n",
    "\n",
    "else :\n",
    "    print(\"Yanlış seçim yaptınız tekrar deneyiniz\")"
   ]
  },
  {
   "cell_type": "code",
   "execution_count": null,
   "id": "4eed24b9",
   "metadata": {},
   "outputs": [],
   "source": []
  }
 ],
 "metadata": {
  "kernelspec": {
   "display_name": "Python 3 (ipykernel)",
   "language": "python",
   "name": "python3"
  },
  "language_info": {
   "codemirror_mode": {
    "name": "ipython",
    "version": 3
   },
   "file_extension": ".py",
   "mimetype": "text/x-python",
   "name": "python",
   "nbconvert_exporter": "python",
   "pygments_lexer": "ipython3",
   "version": "3.9.12"
  }
 },
 "nbformat": 4,
 "nbformat_minor": 5
}
